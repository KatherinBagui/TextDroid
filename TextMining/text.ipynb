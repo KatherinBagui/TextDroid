{
 "cells": [
  {
   "cell_type": "code",
   "execution_count": 84,
   "metadata": {
    "collapsed": false
   },
   "outputs": [],
   "source": [
    "import sklearn.decomposition\n",
    "import pandas as pd\n",
    "import math\n",
    "import string\n",
    "import re\n",
    "import numpy as np\n",
    "import nltk \n",
    "from sklearn.cluster import KMeans\n",
    "from sklearn.decomposition import TruncatedSVD\n",
    "from sklearn.pipeline import make_pipeline\n",
    "from sklearn.preprocessing import Normalizer\n",
    "from nltk.corpus import stopwords\n",
    "from sklearn.cross_validation import train_test_split\n",
    "from sklearn.feature_extraction.text import TfidfVectorizer, CountVectorizer\n",
    "from sklearn.datasets import fetch_20newsgroups\n",
    "from __future__ import division\n",
    "\n"
   ]
  },
  {
   "cell_type": "code",
   "execution_count": 85,
   "metadata": {
    "collapsed": false
   },
   "outputs": [],
   "source": [
    "tesis = pd.read_csv('tesis.csv',sep=';',header=0)"
   ]
  },
  {
   "cell_type": "code",
   "execution_count": 86,
   "metadata": {
    "collapsed": false
   },
   "outputs": [],
   "source": [
    "def limpiar(texto):\n",
    "    list_to_clean = ['\\x0c','\\n']\n",
    "    for c in list_to_clean:\n",
    "        texto = texto.replace(c,' ')\n",
    "    clean_text = re.sub('[^a-zA-Z]+',' ',texto)    \n",
    "    return clean_text.lower()\n",
    "\n",
    "tesis['ts_clean'] = tesis['abstract'].apply(lambda x:limpiar(x))"
   ]
  },
  {
   "cell_type": "code",
   "execution_count": 87,
   "metadata": {
    "collapsed": false
   },
   "outputs": [],
   "source": [
    "def tokenize(text):\n",
    "    text = re.sub(\"[^a-zA-Z]\",\" \",text)\n",
    "    text = re.sub(r'\\b\\w{1,2}\\b',' ',text)\n",
    "    text = re.sub(r'http[\\bs]*',' ',text)\n",
    "    text = re.sub(r'telefonos','telefono',text)\n",
    "    tokens = nltk.word_tokenize(text)\n",
    "    return tokens"
   ]
  },
  {
   "cell_type": "code",
   "execution_count": 88,
   "metadata": {
    "collapsed": false
   },
   "outputs": [],
   "source": [
    "#tf_vectorizer = CountVectorizer(analyzer='word', tokenizer=tokenize, max_features = 2, lowercase=True\n",
    "                               #,stop_words=nltk.corpus.stopwords.words('spanish'))\n",
    "#tf = tf_vectorizer.fit_transform(tesis['tes_clean'])\n",
    "\n",
    "tfidf_vectorizer = TfidfVectorizer(max_df=0.95, min_df=2,\n",
    "                                   stop_words=nltk.corpus.stopwords.words('spanish'))\n",
    "tfidf = tfidf_vectorizer.fit_transform(tesis['ts_clean'])"
   ]
  },
  {
   "cell_type": "code",
   "execution_count": 89,
   "metadata": {
    "collapsed": false
   },
   "outputs": [
    {
     "name": "stdout",
     "output_type": "stream",
     "text": [
      "[u'about', u'academic', u'acceptable', u'access', u'according', u'account', u'achieve', u'achieved', u'acquisition', u'activities', u'activity', u'adaptations', u'adapted', u'addition', u'address', u'adequate', u'administration', u'administrative', u'advantage', u'advertising', u'after', u'against', u'aim', u'aimed', u'aims', u'all', u'allowing', u'allows', u'also', u'alternatives', u'among', u'amount', u'an', u'analysis', u'analyzed', u'analyzing', u'annual', u'any', u'appears', u'application', u'approximately', u'are', u'area', u'areas', u'arises', u'around', u'as', u'aspects', u'assessment', u'assist', u'assistance', u'at', u'attractive', u'bank', u'based', u'basis', u'be', u'because', u'been', u'before', u'beginning', u'benefit', u'benefits', u'besides', u'between', u'bicycle', u'bike', u'born', u'both', u'business', u'but', u'by', u'cameras', u'can', u'capital', u'capitalist', u'care', u'careers', u'carried', u'carry', u'cash', u'center', u'centers', u'cfn', u'chain', u'change', u'characteristics', u'charge', u'child', u'children', u'choice', u'city', u'client', u'clients', u'collection', u'common', u'companies', u'company', u'competitive', u'computer', u'conclusion', u'conditions', u'conduct', u'conducted', u'consider', u'considered', u'consists', u'constitution', u'consulting', u'continuing', u'contribute', u'contributed', u'contributing', u'contribution', u'control', u'controls', u'corp', u'cost', u'costs', u'could', u'country', u'cover', u'create', u'created', u'creating', u'creation', u'crm', u'current', u'currently', u'customer', u'customers', u'daily', u'data', u'database', u'databases', u'day', u'days', u'define', u'defined', u'defines', u'deliver', u'delivery', u'demand', u'department', u'describe', u'design', u'detailed', u'determine', u'determined', u'develop', u'developed', u'developer', u'developing', u'development', u'different', u'directly', u'discount', u'distribution', u'do', u'does', u'dollars', u'done', u'drafting', u'drawbacks', u'due', u'during', u'each', u'ease', u'easy', u'economic', u'ecuador', u'education', u'educational', u'effective', u'efficiency', u'efficient', u'electrical', u'electronic', u'employees', u'engineering', u'ensure', u'ensuring', u'enterprise', u'entities', u'especially', u'established', u'establishment', u'estimated', u'estimates', u'etc', u'evaluation', u'every', u'exist', u'expenses', u'experience', u'face', u'facilitates', u'facilities', u'faculty', u'feasibility', u'feasible', u'field', u'financed', u'financial', u'financially', u'financing', u'find', u'fingertips', u'first', u'five', u'fixed', u'flow', u'focus', u'focused', u'following', u'for', u'free', u'friendly', u'from', u'functions', u'funded', u'future', u'general', u'generate', u'generated', u'get', u'give', u'gives', u'giving', u'go', u'goal', u'goals', u'going', u'good', u'government', u'great', u'guaranteed', u'guayaquil', u'guayas', u'guidelines', u'had', u'hand', u'have', u'health', u'healthy', u'help', u'helping', u'high', u'highly', u'his', u'home', u'hours', u'idea', u'identified', u'identify', u'implement', u'implementation', u'implemented', u'implementing', u'implies', u'important', u'improve', u'improved', u'improving', u'includes', u'including', u'income', u'increase', u'increased', u'indicate', u'indicates', u'indicators', u'industrial', u'information', u'infrastructure', u'initial', u'initially', u'installation', u'institutions', u'integrity', u'interest', u'interested', u'internal', u'internet', u'intervention', u'interviews', u'into', u'invest', u'investigation', u'investigative', u'investment', u'involved', u'ip', u'irr', u'issue', u'issues', u'it', u'its', u'job', u'just', u'keep', u'keywords', u'kind', u'know', u'knowing', u'knowledge', u'lack', u'large', u'learn', u'learning', u'leaving', u'legal', u'less', u'libraries', u'license', u'life', u'literary', u'little', u'loan', u'locally', u'long', u'look', u'loss', u'low', u'made', u'main', u'maintain', u'maintenance', u'majority', u'make', u'makes', u'making', u'management', u'market', u'marketing', u'matrix', u'may', u'means', u'medium', u'meet', u'members', u'method', u'methodology', u'mission', u'mobile', u'model', u'money', u'monitor', u'monitoring', u'month', u'months', u'more', u'most', u'much', u'must', u'my', u'mysql', u'necessary', u'need', u'needed', u'needs', u'net', u'new', u'normal', u'not', u'npv', u'objective', u'obtained', u'offer', u'offered', u'old', u'on', u'one', u'online', u'only', u'open', u'operating', u'operation', u'operations', u'opportunities', u'optimistic', u'optimize', u'or', u'order', u'organization', u'organizational', u'oriented', u'other', u'our', u'out', u'own', u'parents', u'part', u'partner', u'partners', u'payback', u'people', u'per', u'percentage', u'perform', u'performance', u'performed', u'period', u'personnel', u'pessimistic', u'phase', u'php', u'physical', u'place', u'plan', u'planning', u'plans', u'platform', u'plus', u'population', u'portal', u'position', u'positioning', u'positions', u'positive', u'possible', u'potential', u'power', u'premises', u'prepare', u'present', u'presented', u'presents', u'price', u'prices', u'problem', u'problems', u'process', u'processes', u'product', u'production', u'productivity', u'products', u'professional', u'professionals', u'profit', u'profitability', u'profitable', u'programs', u'project', u'projected', u'projection', u'projects', u'promote', u'proper', u'proposal', u'proposed', u'proved', u'provide', u'provided', u'provides', u'providing', u'provinces', u'purchasing', u'purpose', u'qualified', u'quality', u'quickly', u'rate', u'ratio', u'real', u'realized', u'recommended', u'record', u'records', u'recover', u'recovered', u'recovery', u'reduce', u'reflects', u'reforms', u'reliable', u'representing', u'represents', u'require', u'required', u'requires', u'research', u'resources', u'respective', u'responsible', u'result', u'results', u'return', u'reveals', u'revenue', u'risk', u'risks', u'role', u'sa', u'sale', u'sales', u'same', u'satisfaction', u'saving', u'scenario', u'scenarios', u'scientific', u'second', u'sector', u'security', u'seeks', u'serve', u'server', u'service', u'services', u'set', u'several', u'shareholders', u'short', u'shows', u'since', u'site', u'skills', u'so', u'social', u'software', u'sold', u'solution', u'solutions', u'solve', u'solving', u'some', u'source', u'space', u'specifically', u'sql', u'staff', u'standardization', u'standards', u'statement', u'strategies', u'strategy', u'strength', u'strengths', u'structure', u'student', u'students', u'study', u'subsequently', u'success', u'such', u'sufficient', u'supply', u'support', u'supported', u'survey', u'surveys', u'sustainability', u'swot', u'system', u'systems', u'take', u'taken', u'takes', u'target', u'teachers', u'technical', u'techniques', u'technological', u'technology', u'term', u'than', u'that', u'their', u'them', u'there', u'therefore', u'these', u'thesis', u'they', u'third', u'this', u'those', u'threats', u'three', u'through', u'thus', u'time', u'timely', u'tir', u'today', u'tool', u'tools', u'total', u'track', u'trained', u'training', u'turn', u'two', u'type', u'under', u'unit', u'university', u'up', u'us', u'usd', u'use', u'used', u'user', u'users', u'using', u'utility', u'value', u'values', u'various', u'very', u'via', u'viability', u'viable', u'vision', u'visual', u'was', u'way', u'we', u'weaknesses', u'web', u'website', u'well', u'were', u'when', u'where', u'whether', u'which', u'while', u'who', u'will', u'windows', u'with', u'within', u'work', u'working', u'workplace', u'worldwide', u'would', u'year', u'years', u'you', u'your']\n"
     ]
    }
   ],
   "source": [
    "corpus_features = tfidf.toarray()\n",
    "palabras = tfidf_vectorizer.get_feature_names()\n",
    "print palabras"
   ]
  },
  {
   "cell_type": "code",
   "execution_count": 90,
   "metadata": {
    "collapsed": false
   },
   "outputs": [
    {
     "name": "stdout",
     "output_type": "stream",
     "text": [
      "31 6\n",
      "31 6\n"
     ]
    }
   ],
   "source": [
    "x_train, x_test, y_train, y_test = train_test_split(corpus_features,tesis['sentimiento']\n",
    "                                                    ,train_size= .85, random_state=40)\n",
    "print len(x_train),len(x_test)\n",
    "print len(x_train),len(y_test)"
   ]
  },
  {
   "cell_type": "code",
   "execution_count": 91,
   "metadata": {
    "collapsed": false
   },
   "outputs": [],
   "source": [
    "from sklearn.linear_model import LogisticRegression\n",
    "lm = LogisticRegression()\n",
    "lm = lm.fit(X=x_train,y=y_train)"
   ]
  },
  {
   "cell_type": "code",
   "execution_count": 92,
   "metadata": {
    "collapsed": false
   },
   "outputs": [
    {
     "name": "stdout",
     "output_type": "stream",
     "text": [
      "             precision    recall  f1-score   support\n",
      "\n",
      "         -1       0.33      1.00      0.50         2\n",
      "          1       0.00      0.00      0.00         4\n",
      "\n",
      "avg / total       0.11      0.33      0.17         6\n",
      "\n"
     ]
    }
   ],
   "source": [
    "from sklearn.metrics import classification_report\n",
    "y_pred = lm.predict(x_test)\n",
    "print(classification_report(y_test, y_pred))"
   ]
  },
  {
   "cell_type": "code",
   "execution_count": 93,
   "metadata": {
    "collapsed": false
   },
   "outputs": [
    {
     "data": {
      "text/plain": [
       "\"BikeRun S.A. emerges as a need or lack which is increasing in the city of Guayaquil, the pace and conditions of work, somehow justify that people does not motivate to exercise and this may lead to stress because of the physical and mental exhaustion after a hard day's work. Thus arises the need for business that allows to solve this problem to a large extent, giving you a choice of quality of life. The proposal of this project is to provide a product with opportunities and alternatives to people who can devote the time necessary to exercise using a device built into a bicycle, that beyond scroll and enjoy a relaxing, healthy and non-polluting will allow people monitor, keep track of your travel, speed and travel time, calories, heart rate. The city of Guayaquil is a very broad market and business approach is aimed at all persons of different ages and social classes. BikeRun to the market-access strategy is to create in people the need and the importance of having this device and which can be adapted in any kind of bike, going this a medium that does not pollutes, it is quiet, takes up little space, provides freedom of movement and in addition making awareness among the population about the negative effects of the global warming. This work was developed through a process involving data collection, fieldwork and analysis through the system of information. The results obtained through financial analysis require an estimated investment of $39.595,67 resulting in an attractive plan with an internal rate of return of the 34% and a recovery period of 2 years.\\n\\n\""
      ]
     },
     "execution_count": 93,
     "metadata": {},
     "output_type": "execute_result"
    }
   ],
   "source": [
    "tesis['abstract'][1] "
   ]
  },
  {
   "cell_type": "code",
   "execution_count": 94,
   "metadata": {
    "collapsed": false
   },
   "outputs": [
    {
     "data": {
      "text/plain": [
       "KMeans(copy_x=True, init='k-means++', max_iter=100, n_clusters=20, n_init=10,\n",
       "    n_jobs=1, precompute_distances='auto', random_state=None, tol=0.0001,\n",
       "    verbose=0)"
      ]
     },
     "execution_count": 94,
     "metadata": {},
     "output_type": "execute_result"
    }
   ],
   "source": [
    "dataset = fetch_20newsgroups(subset='all', shuffle=True, random_state=42)\n",
    "labels = dataset.target\n",
    "true_k = np.unique(labels).shape[0]\n",
    "svd = TruncatedSVD(true_k)\n",
    "lsa = make_pipeline(svd, Normalizer(copy=False))\n",
    "\n",
    "X = lsa.fit_transform(tfidf)\n",
    "\n",
    "km = KMeans(n_clusters=true_k, init='k-means++', max_iter=100)\n",
    "km.fit(X)"
   ]
  }
 ],
 "metadata": {
  "anaconda-cloud": {},
  "kernelspec": {
   "display_name": "Python [Root]",
   "language": "python",
   "name": "Python [Root]"
  },
  "language_info": {
   "codemirror_mode": {
    "name": "ipython",
    "version": 2
   },
   "file_extension": ".py",
   "mimetype": "text/x-python",
   "name": "python",
   "nbconvert_exporter": "python",
   "pygments_lexer": "ipython2",
   "version": "2.7.12"
  }
 },
 "nbformat": 4,
 "nbformat_minor": 0
}
